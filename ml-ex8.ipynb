{
 "cells": [
  {
   "cell_type": "markdown",
   "id": "2ce523aa-b81a-4a0d-86e8-8c47c75df653",
   "metadata": {},
   "source": [
    "ID3"
   ]
  },
  {
   "cell_type": "code",
   "execution_count": 8,
   "id": "8a480f86-b783-4fcc-844d-8475b7c243f9",
   "metadata": {},
   "outputs": [],
   "source": [
    "data = [\n",
    "    ['Sunny', 'Hot', 'High', 'Weak', 'No'],\n",
    "    ['Sunny', 'Hot', 'High', 'Strong', 'No'],\n",
    "    ['Overcast', 'Hot', 'High', 'Weak', 'Yes'],\n",
    "    ['Rain', 'Mild', 'High', 'Weak', 'Yes'],\n",
    "    ['Rain', 'Cool', 'Normal', 'Weak', 'Yes'],\n",
    "    ['Rain', 'Cool', 'Normal', 'Strong', 'No'],\n",
    "    ['Overcast', 'Cool', 'Normal', 'Strong', 'Yes'],\n",
    "    ['Sunny', 'Mild', 'High', 'Weak', 'No'],\n",
    "    ['Sunny', 'Cool', 'Normal', 'Weak', 'Yes'],\n",
    "    ['Rain', 'Mild', 'Normal', 'Weak', 'Yes'],\n",
    "    ['Sunny', 'Mild', 'Normal', 'Strong', 'Yes'],\n",
    "    ['Overcast', 'Mild', 'High', 'Strong', 'Yes'],\n",
    "    ['Overcast', 'Hot', 'Normal', 'Weak', 'Yes'],\n",
    "    ['Rain', 'Mild', 'High', 'Strong', 'No'],\n",
    "]\n",
    "features = ['Outlook', 'Temperature', 'Humidity', 'Wind']\n"
   ]
  },
  {
   "cell_type": "code",
   "execution_count": 9,
   "id": "f40b1d73-1d38-47d7-a6e1-bfc5fadf9ae5",
   "metadata": {},
   "outputs": [],
   "source": [
    "import math\n",
    "from collections import Counter"
   ]
  },
  {
   "cell_type": "code",
   "execution_count": 10,
   "id": "cedd1ad3-9f03-4854-bf26-dc4ad7eebcda",
   "metadata": {},
   "outputs": [],
   "source": [
    "import math\n",
    "from collections import Counter\n",
    "\n",
    "def entropy(data):\n",
    "    labels = [row[-1] for row in data]\n",
    "    counts = Counter(labels)\n",
    "    total = len(labels)\n",
    "    return -sum((count/total) * math.log2(count/total) for count in counts.values())\n",
    "\n",
    "def info_gain(data, attr_index):\n",
    "    total_entropy = entropy(data)\n",
    "    attr_values = [row[attr_index] for row in data]\n",
    "    unique_values = set(attr_values)\n",
    "    subsets = [[row for row in data if row[attr_index] == value] for value in unique_values]\n",
    "    weighted_entropy = sum((len(subset)/len(data)) * entropy(subset) for subset in subsets)\n",
    "    return total_entropy - weighted_entropy\n",
    "\n",
    "def id3(data, features):\n",
    "    labels = [row[-1] for row in data]\n",
    "    if labels.count(labels[0]) == len(labels):\n",
    "        return labels[0]\n",
    "    if not features:\n",
    "        return Counter(labels).most_common(1)[0][0]\n",
    "\n",
    "    gains = [info_gain(data, i) for i in range(len(features))]\n",
    "    best = gains.index(max(gains))\n",
    "    best_feature = features[best]\n",
    "\n",
    "    tree = {best_feature: {}}\n",
    "    unique_values = set(row[best] for row in data)\n",
    "    for value in unique_values:\n",
    "        subset = [row[:best] + row[best+1:] for row in data if row[best] == value]\n",
    "        sub_features = features[:best] + features[best+1:]\n",
    "        tree[best_feature][value] = id3(subset, sub_features)\n",
    "\n",
    "    return tree\n"
   ]
  },
  {
   "cell_type": "code",
   "execution_count": 11,
   "id": "260f09be-17de-4016-8b30-06ffda00e50e",
   "metadata": {},
   "outputs": [
    {
     "name": "stdout",
     "output_type": "stream",
     "text": [
      "{'Outlook': {'Sunny': {'Humidity': {'High': 'No', 'Normal': 'Yes'}}, 'Rain': {'Wind': {'Strong': 'No', 'Weak': 'Yes'}}, 'Overcast': 'Yes'}}\n"
     ]
    }
   ],
   "source": [
    "tree_id3 = id3(data, features)\n",
    "print(tree_id3)"
   ]
  },
  {
   "cell_type": "markdown",
   "id": "96ce339c-0026-4277-ad7f-a4a7c1dfa5a8",
   "metadata": {},
   "source": [
    "C45"
   ]
  },
  {
   "cell_type": "code",
   "execution_count": 12,
   "id": "725b29e1-54cc-4fa6-9da1-c2cee8c19857",
   "metadata": {},
   "outputs": [],
   "source": [
    "def split_info(data, attr_index):\n",
    "    attr_values = [row[attr_index] for row in data]\n",
    "    counts = Counter(attr_values)\n",
    "    total = len(attr_values)\n",
    "    return -sum((count/total) * math.log2(count/total) for count in counts.values())\n",
    "\n",
    "def gain_ratio(data, attr_index):\n",
    "    ig = info_gain(data, attr_index)\n",
    "    si = split_info(data, attr_index)\n",
    "    return ig / si if si != 0 else 0\n",
    "\n",
    "def c45(data, features):\n",
    "    labels = [row[-1] for row in data]\n",
    "    if labels.count(labels[0]) == len(labels):\n",
    "        return labels[0]\n",
    "    if not features:\n",
    "        return Counter(labels).most_common(1)[0][0]\n",
    "\n",
    "    ratios = [gain_ratio(data, i) for i in range(len(features))]\n",
    "    best = ratios.index(max(ratios))\n",
    "    best_feature = features[best]\n",
    "\n",
    "    tree = {best_feature: {}}\n",
    "    unique_values = set(row[best] for row in data)\n",
    "    for value in unique_values:\n",
    "        subset = [row[:best] + row[best+1:] for row in data if row[best] == value]\n",
    "        sub_features = features[:best] + features[best+1:]\n",
    "        tree[best_feature][value] = c45(subset, sub_features)\n",
    "\n",
    "    return tree"
   ]
  },
  {
   "cell_type": "code",
   "execution_count": 13,
   "id": "e657d923-cbb7-4ab2-b43a-603bcb3fe8b7",
   "metadata": {},
   "outputs": [
    {
     "name": "stdout",
     "output_type": "stream",
     "text": [
      "{'Outlook': {'Sunny': {'Humidity': {'High': 'No', 'Normal': 'Yes'}}, 'Rain': {'Wind': {'Strong': 'No', 'Weak': 'Yes'}}, 'Overcast': 'Yes'}}\n"
     ]
    }
   ],
   "source": [
    "tree_c45 = c45(data, features)\n",
    "print(tree_c45)"
   ]
  },
  {
   "cell_type": "markdown",
   "id": "fcf755d1-b36d-4ad7-9bd9-beb21fbd8ba9",
   "metadata": {},
   "source": [
    "CART"
   ]
  },
  {
   "cell_type": "code",
   "execution_count": 14,
   "id": "9ca0a900-0901-4355-975b-c29d9bcac707",
   "metadata": {},
   "outputs": [],
   "source": [
    "def gini(data):\n",
    "    labels = [row[-1] for row in data]\n",
    "    counts = Counter(labels)\n",
    "    total = len(labels)\n",
    "    return 1 - sum((count/total)**2 for count in counts.values())\n",
    "\n",
    "def gini_index(data, attr_index):\n",
    "    attr_values = [row[attr_index] for row in data]\n",
    "    unique_values = set(attr_values)\n",
    "    subsets = [[row for row in data if row[attr_index] == value] for value in unique_values]\n",
    "    return sum((len(subset)/len(data)) * gini(subset) for subset in subsets)\n",
    "\n",
    "def cart(data, features):\n",
    "    labels = [row[-1] for row in data]\n",
    "    if labels.count(labels[0]) == len(labels):\n",
    "        return labels[0]\n",
    "    if not features:\n",
    "        return Counter(labels).most_common(1)[0][0]\n",
    "\n",
    "    ginis = [gini_index(data, i) for i in range(len(features))]\n",
    "    best = ginis.index(min(ginis))\n",
    "    best_feature = features[best]\n",
    "\n",
    "    tree = {best_feature: {}}\n",
    "    unique_values = set(row[best] for row in data)\n",
    "    for value in unique_values:\n",
    "        subset = [row[:best] + row[best+1:] for row in data if row[best] == value]\n",
    "        sub_features = features[:best] + features[best+1:]\n",
    "        tree[best_feature][value] = cart(subset, sub_features)\n",
    "\n",
    "    return tree"
   ]
  },
  {
   "cell_type": "code",
   "execution_count": 15,
   "id": "91e5f4bd-3ade-4e8a-b1b8-7ae6a1d5d950",
   "metadata": {},
   "outputs": [
    {
     "name": "stdout",
     "output_type": "stream",
     "text": [
      "{'Outlook': {'Sunny': {'Humidity': {'High': 'No', 'Normal': 'Yes'}}, 'Rain': {'Wind': {'Strong': 'No', 'Weak': 'Yes'}}, 'Overcast': 'Yes'}}\n"
     ]
    }
   ],
   "source": [
    "tree_cart = cart(data, features)\n",
    "print(tree_cart)"
   ]
  },
  {
   "cell_type": "code",
   "execution_count": null,
   "id": "1ffe5dba-c5f2-4cbe-ad64-4189c0373946",
   "metadata": {},
   "outputs": [],
   "source": []
  }
 ],
 "metadata": {
  "kernelspec": {
   "display_name": "Python 3 (ipykernel)",
   "language": "python",
   "name": "python3"
  },
  "language_info": {
   "codemirror_mode": {
    "name": "ipython",
    "version": 3
   },
   "file_extension": ".py",
   "mimetype": "text/x-python",
   "name": "python",
   "nbconvert_exporter": "python",
   "pygments_lexer": "ipython3",
   "version": "3.12.7"
  }
 },
 "nbformat": 4,
 "nbformat_minor": 5
}
